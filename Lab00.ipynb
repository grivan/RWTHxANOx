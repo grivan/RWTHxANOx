{
 "cells": [
  {
   "cell_type": "markdown",
   "metadata": {},
   "source": [
    "<div>\n",
    "<img src=\"figures/svtLogo.png\"/>\n",
    "</div>  \n",
    "<center><h1>Mathematical Optimization for Engineers</h1></center>\n",
    "<center><h2>Lab 0</h2></center>"
   ]
  },
  {
   "cell_type": "markdown",
   "metadata": {},
   "source": [
    "\n",
    "# Python with Jupyter Notebooks Introduction"
   ]
  },
  {
   "cell_type": "markdown",
   "metadata": {},
   "source": [
    "In this course, we will use Python in Jupyter notebooks for the lab and also for the bonus assignments. \n",
    "For those who are not familiar with Python, this lab exercise should make you familiar with the commands we need in class. \n",
    "We tried to use only few standard external packages, including numpy and scipy. \n",
    "\n",
    "This short introduction is not meant to be comprehensive but shows the most used commands.\n",
    "\n",
    "Further information and tutorials can be found online.\n",
    "\n"
   ]
  },
  {
   "cell_type": "markdown",
   "metadata": {},
   "source": [
    "A Jupyter notebook contains cells which can have code. This code can be executed by running the cell. The output is then shown below the cell. <br>\n",
    "Basic operations are part of standard python such as additon, multiplication etc. \n"
   ]
  },
  {
   "cell_type": "code",
   "execution_count": 1,
   "metadata": {},
   "outputs": [],
   "source": [
    "a = 1 + 2\n",
    "b = 10 / 2\n",
    "\n",
    "# comments are introduced by #\n",
    "# the power operator is **\n",
    "c = 2 ** 3 "
   ]
  },
  {
   "cell_type": "markdown",
   "metadata": {},
   "source": [
    "By using the print command, we can show the value of the variable"
   ]
  },
  {
   "cell_type": "code",
   "execution_count": 2,
   "metadata": {},
   "outputs": [
    {
     "name": "stdout",
     "output_type": "stream",
     "text": [
      "3\n",
      "5.0\n",
      "The variable a has the value:  3\n",
      "a/b is  0.6\n"
     ]
    }
   ],
   "source": [
    "print(a)\n",
    "print(b)\n",
    "# We can also add a string before printing the value for clarification\n",
    "print('The variable a has the value: ', a)\n",
    "print('a/b is ', a/b)"
   ]
  },
  {
   "cell_type": "markdown",
   "metadata": {},
   "source": [
    "## Basic loops and conditions "
   ]
  },
  {
   "cell_type": "code",
   "execution_count": 3,
   "metadata": {},
   "outputs": [
    {
     "name": "stdout",
     "output_type": "stream",
     "text": [
      "0\n",
      "1\n",
      "2\n",
      "3\n",
      "4\n",
      "5\n",
      "6\n",
      "7\n",
      "8\n",
      "9\n",
      "myValue is 1\n"
     ]
    }
   ],
   "source": [
    "# loops\n",
    "for i in range(0,10):\n",
    "    print(i)\n",
    "# Python is 0-indexed\n",
    "myValue = 1\n",
    "if (myValue<2):\n",
    "    print(\"myValue is\", myValue)\n",
    "elif (myValue>3):\n",
    "    print(\"myValue is greater 3\")\n",
    "else:\n",
    "    print(\"or it is completely different\")\n"
   ]
  },
  {
   "cell_type": "markdown",
   "metadata": {},
   "source": [
    "## Importing packages"
   ]
  },
  {
   "cell_type": "markdown",
   "metadata": {},
   "source": [
    "Most python code uses some external functions which need to be imported. It is recommended to do this at the top of the file to have an overview of the used packages. \n"
   ]
  },
  {
   "cell_type": "code",
   "execution_count": 4,
   "metadata": {},
   "outputs": [],
   "source": [
    "import numpy as np\n",
    "from scipy import optimize as sp"
   ]
  },
  {
   "cell_type": "markdown",
   "metadata": {},
   "source": [
    "## Functions"
   ]
  },
  {
   "cell_type": "markdown",
   "metadata": {},
   "source": [
    "Functions are defined by the keyword def and can have return values"
   ]
  },
  {
   "cell_type": "code",
   "execution_count": 5,
   "metadata": {},
   "outputs": [],
   "source": [
    "def myFunction(x):\n",
    "    y = x ** 2 - 2.2\n",
    "    z = y + 2\n",
    "    return y, z"
   ]
  },
  {
   "cell_type": "code",
   "execution_count": 6,
   "metadata": {},
   "outputs": [
    {
     "name": "stdout",
     "output_type": "stream",
     "text": [
      "-0.7600000000000002 1.2399999999999998\n"
     ]
    }
   ],
   "source": [
    "x = 1.2\n",
    "myY, myZ = myFunction(x)\n",
    "print(myY, myZ)"
   ]
  },
  {
   "cell_type": "code",
   "execution_count": 7,
   "metadata": {},
   "outputs": [],
   "source": [
    "def parametricFunction(x, p): \n",
    "    y = p*x ** 2\n",
    "    return y"
   ]
  },
  {
   "cell_type": "code",
   "execution_count": 8,
   "metadata": {},
   "outputs": [
    {
     "name": "stdout",
     "output_type": "stream",
     "text": [
      "18.0\n"
     ]
    }
   ],
   "source": [
    "myY = parametricFunction(2, 4.5)\n",
    "print(myY)"
   ]
  },
  {
   "cell_type": "markdown",
   "metadata": {},
   "source": [
    "## Arrays and lists"
   ]
  },
  {
   "cell_type": "markdown",
   "metadata": {},
   "source": [
    "Arrays and lists are often used in the course. Numpy arrays can be used like vectors and matricses, lists can contain all kinds of data."
   ]
  },
  {
   "cell_type": "code",
   "execution_count": 9,
   "metadata": {},
   "outputs": [
    {
     "name": "stdout",
     "output_type": "stream",
     "text": [
      "[array([1, 2, 3, 4]), array([3, 2, 0, 0])]\n",
      "[3 2 0 0]\n",
      "[ 5 11]\n"
     ]
    }
   ],
   "source": [
    "# example for numpy arrary\n",
    "array0 = np.array([1,2,3,4])\n",
    "array1 = np.array([3,2,0,0])\n",
    "\n",
    "myList = []\n",
    "myList.append(array0)\n",
    "myList.append(array1)\n",
    "print(myList)\n",
    "\n",
    "print(myList[1])\n",
    "\n",
    "myMatrix = np.array([[1, 2], [3, 4]])\n",
    "twoVec = np.array([1, 2])\n",
    "sol = np.dot(myMatrix, twoVec)\n",
    "print(sol)"
   ]
  },
  {
   "cell_type": "markdown",
   "metadata": {},
   "source": [
    "## Plotting"
   ]
  },
  {
   "cell_type": "markdown",
   "metadata": {},
   "source": [
    "In this course, we will use matlplotlib to plot."
   ]
  },
  {
   "cell_type": "code",
   "execution_count": 10,
   "metadata": {},
   "outputs": [],
   "source": [
    "import matplotlib.pyplot as plt"
   ]
  },
  {
   "cell_type": "code",
   "execution_count": 11,
   "metadata": {},
   "outputs": [
    {
     "data": {
      "image/png": "[encoded data removed]",
      "text/plain": [
       "<Figure size 432x288 with 1 Axes>"
      ]
     },
     "metadata": {
      "needs_background": "light"
     },
     "output_type": "display_data"
    }
   ],
   "source": [
    "fig = plt.figure()\n",
    "ax = plt.plot([1,2,3,4],[1,4,9,16])\n",
    "plt.xlabel('x axis label')\n",
    "plt.ylabel('y axis label')\n",
    "plt.xlim([1.4, 4.2])\n",
    "plt.show()"
   ]
  },
  {
   "cell_type": "code",
   "execution_count": 12,
   "metadata": {},
   "outputs": [],
   "source": [
    "# many options exist to make graphs nicer, e.g., linewidths, color, labels, legends..."
   ]
  },
  {
   "cell_type": "code",
   "execution_count": null,
   "metadata": {},
   "outputs": [],
   "source": []
  }
 ],
 "metadata": {
  "kernelspec": {
   "display_name": "Python 3",
   "language": "python",
   "name": "python3"
  },
  "language_info": {
   "codemirror_mode": {
    "name": "ipython",
    "version": 3
   },
   "file_extension": ".py",
   "mimetype": "text/x-python",
   "name": "python",
   "nbconvert_exporter": "python",
   "pygments_lexer": "ipython3",
   "version": "3.6.8"
  }
 },
 "nbformat": 4,
 "nbformat_minor": 2
}
